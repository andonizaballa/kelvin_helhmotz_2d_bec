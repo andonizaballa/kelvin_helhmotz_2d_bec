{
 "cells": [
  {
   "cell_type": "code",
   "execution_count": 1,
   "metadata": {},
   "outputs": [],
   "source": [
    "import numpy as np \n",
    "import matplotlib.pyplot as plt\n",
    "import scipy.constants \n",
    "from scipy.constants import pi, c, hbar, epsilon_0, e, m_e, m_p, N_A, k\n",
    "import cmath\n",
    "\n",
    "from fig_config import (\n",
    "    add_grid,\n",
    "    figure_features,\n",
    ")  # <--- import customized functions\n",
    "\n",
    "figure_features()\n",
    "\n"
   ]
  },
  {
   "cell_type": "markdown",
   "metadata": {},
   "source": [
    "In hydrodynamics the KHI for a (continuous) vortex sheet (i.e. a tangential discontinuity between two parallel flows $v_1$ and $v_2$) in an incompressible inviscid fluid of constant density and without gravity is known to have a dispersion relation of the form\n",
    "\n",
    "$$\\omega (k_H)= \\frac{v_1+v_2}{2}k_H \\pm i \\frac{v_1-v_2}{2}k_H$$\n",
    "\n",
    "where $k_H$ is the wavevector of the perturbation along the discontinuity, i.e. parallel to the flows. This result is modified if, instead of a tangential discontinuity, a finite-width shear layer is present; for example, for a piecewise continuous profile that is constant for $\\vert y \\vert > \\delta $ and changes linearly for $ - \\delta \\leq y \\leq \\delta $ the dispersion relation becomes\n",
    "\n",
    "$$\\omega_{KH} (k_H) = \\frac{v_1+v_2}{2} k_H \\pm i \\frac{v_1-v_2}{4 \\delta} \\sqrt{e^{-4 k_H \\delta} - (2k_h\\delta-1)^2}$$\n",
    "\n",
    "At low wavenumbers kH the instability rate increases linearly, as in the zero-thickness case (12), while at higher transverse wavenumbers there is a decrease and above $k_H \\delta \\sim 0.6 $ the instability is quenched.\n",
    "\n",
    "So, we will plot this for our cases. In our case $v_1=-v_2= \\frac{\\Delta v}{2}$"
   ]
  },
  {
   "cell_type": "code",
   "execution_count": 8,
   "metadata": {},
   "outputs": [],
   "source": [
    "def im_omega(deltav,k):\n",
    "    return deltav*k/2 \n",
    "\n",
    "def im_omega_kh(delta, deltav, k):\n",
    "    vec = np.array([])\n",
    "    for i in range(len(k)):\n",
    "         vec[i] = deltav * kx / (2 * delta) * cmath.sqrt(np.exp(-4 * k[i] * delta) - (2 * k[i] * delta - 1)**2)\n",
    "    return  vec\n",
    "\n",
    "def delta(xi,c_s,delta_v):\n",
    "    return xi * (1 + c_s / delta_v)\n"
   ]
  },
  {
   "cell_type": "markdown",
   "metadata": {},
   "source": [
    "So, now we can plot both our expresions"
   ]
  },
  {
   "cell_type": "code",
   "execution_count": 9,
   "metadata": {},
   "outputs": [
    {
     "ename": "IndexError",
     "evalue": "only integers, slices (`:`), ellipsis (`...`), numpy.newaxis (`None`) and integer or boolean arrays are valid indices",
     "output_type": "error",
     "traceback": [
      "\u001b[0;31m---------------------------------------------------------------------------\u001b[0m",
      "\u001b[0;31mIndexError\u001b[0m                                Traceback (most recent call last)",
      "Cell \u001b[0;32mIn[9], line 12\u001b[0m\n\u001b[1;32m      9\u001b[0m ax \u001b[38;5;241m=\u001b[39m plt\u001b[38;5;241m.\u001b[39maxes()\n\u001b[1;32m     11\u001b[0m \u001b[38;5;66;03m#plt.plot(k_h, im_omega(deltav, k_h), label='Im($\\omega$)')\u001b[39;00m\n\u001b[0;32m---> 12\u001b[0m plt\u001b[38;5;241m.\u001b[39mplot(k_h, np\u001b[38;5;241m.\u001b[39mimag(\u001b[43mim_omega_kh\u001b[49m\u001b[43m(\u001b[49m\u001b[43mdelta_av\u001b[49m\u001b[43m,\u001b[49m\u001b[43m \u001b[49m\u001b[43mdeltav\u001b[49m\u001b[43m,\u001b[49m\u001b[43mk_h\u001b[49m\u001b[43m)\u001b[49m), linewidth \u001b[38;5;241m=\u001b[39m \u001b[38;5;241m1.5\u001b[39m,  c \u001b[38;5;241m=\u001b[39m \u001b[38;5;124m'\u001b[39m\u001b[38;5;124molive\u001b[39m\u001b[38;5;124m'\u001b[39m)\n\u001b[1;32m     13\u001b[0m plt\u001b[38;5;241m.\u001b[39mxlabel(\u001b[38;5;124m'\u001b[39m\u001b[38;5;124m$k_H$\u001b[39m\u001b[38;5;124m'\u001b[39m)\n\u001b[1;32m     14\u001b[0m plt\u001b[38;5;241m.\u001b[39mylabel(\u001b[38;5;124m'\u001b[39m\u001b[38;5;124mIm($\u001b[39m\u001b[38;5;124m\\\u001b[39m\u001b[38;5;124momega_\u001b[39m\u001b[38;5;132;01m{KH}\u001b[39;00m\u001b[38;5;124m$)\u001b[39m\u001b[38;5;124m'\u001b[39m)\n",
      "Cell \u001b[0;32mIn[8], line 7\u001b[0m, in \u001b[0;36mim_omega_kh\u001b[0;34m(delta, deltav, k)\u001b[0m\n\u001b[1;32m      5\u001b[0m vec \u001b[38;5;241m=\u001b[39m np\u001b[38;5;241m.\u001b[39marray([])\n\u001b[1;32m      6\u001b[0m \u001b[38;5;28;01mfor\u001b[39;00m kx \u001b[38;5;129;01min\u001b[39;00m k:\n\u001b[0;32m----> 7\u001b[0m      vec[kx] \u001b[38;5;241m=\u001b[39m deltav \u001b[38;5;241m*\u001b[39m kx \u001b[38;5;241m/\u001b[39m (\u001b[38;5;241m2\u001b[39m \u001b[38;5;241m*\u001b[39m delta) \u001b[38;5;241m*\u001b[39m cmath\u001b[38;5;241m.\u001b[39msqrt(np\u001b[38;5;241m.\u001b[39mexp(\u001b[38;5;241m-\u001b[39m\u001b[38;5;241m4\u001b[39m \u001b[38;5;241m*\u001b[39m kx \u001b[38;5;241m*\u001b[39m delta) \u001b[38;5;241m-\u001b[39m (\u001b[38;5;241m2\u001b[39m \u001b[38;5;241m*\u001b[39m kx \u001b[38;5;241m*\u001b[39m delta \u001b[38;5;241m-\u001b[39m \u001b[38;5;241m1\u001b[39m)\u001b[38;5;241m*\u001b[39m\u001b[38;5;241m*\u001b[39m\u001b[38;5;241m2\u001b[39m)\n\u001b[1;32m      8\u001b[0m \u001b[38;5;28;01mreturn\u001b[39;00m  vec\n",
      "\u001b[0;31mIndexError\u001b[0m: only integers, slices (`:`), ellipsis (`...`), numpy.newaxis (`None`) and integer or boolean arrays are valid indices"
     ]
    },
    {
     "data": {
      "image/png": "[encoded data removed]",
      "text/plain": [
       "<Figure size 640x480 with 1 Axes>"
      ]
     },
     "metadata": {},
     "output_type": "display_data"
    }
   ],
   "source": [
    "\n",
    "\n",
    "k_h = np.linspace(0, 10, 10000)\n",
    "\n",
    "m = 12 * 1.66053873E-27 \n",
    "c_s = 8E-8\n",
    "deltav = 1.26 \n",
    "xi = hbar / (m *c_s)\n",
    "delta_av = delta(xi,c_s,deltav)\n",
    "fig = plt.figure()\n",
    "ax = plt.axes()\n",
    " \n",
    "#plt.plot(k_h, im_omega(deltav, k_h), label='Im($\\omega$)')\n",
    "plt.plot(k_h, np.imag(im_omega_kh(delta_av, deltav,k_h)), linewidth = 1.5,  c = 'olive')\n",
    "plt.xlabel('$k_H$')\n",
    "plt.ylabel('Im($\\omega_{KH}$)')\n",
    "plt.show()\n"
   ]
  },
  {
   "cell_type": "markdown",
   "metadata": {},
   "source": [
    "Now, we will plot the velocity profile "
   ]
  },
  {
   "cell_type": "code",
   "execution_count": null,
   "metadata": {},
   "outputs": [
    {
     "data": {
      "image/png": "[encoded data removed]",
      "text/plain": [
       "<Figure size 640x480 with 1 Axes>"
      ]
     },
     "metadata": {},
     "output_type": "display_data"
    }
   ],
   "source": [
    "def vx(y):\n",
    "    return deltav / 2 * np.tanh(y/delta_av)\n",
    "\n",
    "#Now we plot it,\n",
    "\n",
    "fig = plt.figure()\n",
    "ax = plt.axes()\n",
    "y = np.linspace(-4, 4, 1000)\n",
    "plt.plot(y, vx(y), label='vx(y)')\n",
    "plt.xlabel('$y$')\n",
    "plt.ylabel('$v_x(y)$')\n",
    "plt.show()\n"
   ]
  }
 ],
 "metadata": {
  "kernelspec": {
   "display_name": "base",
   "language": "python",
   "name": "python3"
  },
  "language_info": {
   "codemirror_mode": {
    "name": "ipython",
    "version": 3
   },
   "file_extension": ".py",
   "mimetype": "text/x-python",
   "name": "python",
   "nbconvert_exporter": "python",
   "pygments_lexer": "ipython3",
   "version": "3.10.9"
  }
 },
 "nbformat": 4,
 "nbformat_minor": 2
}
