{
 "cells": [
  {
   "cell_type": "code",
   "execution_count": 10,
   "metadata": {},
   "outputs": [],
   "source": [
    "import numpy as np \n",
    "import matplotlib.pyplot as plt\n",
    "import scipy.constants \n",
    "from scipy.constants import pi, c, hbar, epsilon_0, e, m_e, m_p, N_A, k\n",
    "\n",
    "from fig_config import (\n",
    "    add_grid,\n",
    "    figure_features,\n",
    ")  # <--- import customized functions\n",
    "\n",
    "figure_features()\n",
    "\n"
   ]
  },
  {
   "cell_type": "markdown",
   "metadata": {},
   "source": [
    "In hydrodynamics the KHI for a (continuous) vortex sheet (i.e. a tangential discontinuity between two parallel flows $v_1$ and $v_2$) in an incompressible inviscid fluid of constant density and without gravity is known to have a dispersion relation of the form\n",
    "\n",
    "$$\\omega (k_H)= \\frac{v_1+v_2}{2}k_H \\pm i \\frac{v_1-v_2}{2}k_H$$\n",
    "\n",
    "where $k_H$ is the wavevector of the perturbation along the discontinuity, i.e. parallel to the flows. This result is modified if, instead of a tangential discontinuity, a finite-width shear layer is present; for example, for a piecewise continuous profile that is constant for $\\vert y \\vert > \\delta $ and changes linearly for $ - \\delta \\leq y \\leq \\delta $ the dispersion relation becomes\n",
    "\n",
    "$$\\omega_{KH} (k_H) = \\frac{v_1+v_2}{2} k_H \\pm i \\frac{v_1-v_2}{4 \\delta} \\sqrt{e^{-4 k_H \\delta} - (2k_h\\delta-1)^2}$$\n",
    "\n",
    "At low wavenumbers kH the instability rate increases linearly, as in the zero-thickness case (12), while at higher transverse wavenumbers there is a decrease and above $k_H \\delta \\sim 0.6 $ the instability is quenched.\n",
    "\n",
    "So, we will plot this for our cases. In our case $v_1=-v_2= \\frac{\\Delta v}{2}$"
   ]
  },
  {
   "cell_type": "code",
   "execution_count": 11,
   "metadata": {},
   "outputs": [],
   "source": [
    "def im_omega(deltav,k):\n",
    "    return deltav*k/2 \n",
    "\n",
    "def im_omega_kh(delta, deltav, k):\n",
    "    return  deltav / (4 * delta) * np.sqrt(np.exp(-4*k*delta)-(2 * k * delta - 1)**2)\n",
    "\n",
    "def delta(xi,c_s,delta_v):\n",
    "    return xi * (1 + c_s / delta_v)\n"
   ]
  },
  {
   "cell_type": "markdown",
   "metadata": {},
   "source": [
    "So, now we can plot both our expresions"
   ]
  },
  {
   "cell_type": "code",
   "execution_count": 20,
   "metadata": {},
   "outputs": [
    {
     "name": "stderr",
     "output_type": "stream",
     "text": [
      "/var/folders/bj/ch6vb_9j551gr6pn5t7t2c0w0000gn/T/ipykernel_8649/501187801.py:5: RuntimeWarning: invalid value encountered in sqrt\n",
      "  return  1j * deltav / (4 * delta) * np.sqrt(np.exp(-4*k*delta)-(2 * k * delta - 1)**2)\n"
     ]
    },
    {
     "data": {
      "image/png": "[encoded data removed]",
      "text/plain": [
       "<Figure size 640x480 with 1 Axes>"
      ]
     },
     "metadata": {},
     "output_type": "display_data"
    }
   ],
   "source": [
    "\n",
    "\n",
    "k_h = np.linspace(0, 10, 10000)\n",
    "deltav = 1.26\n",
    "v = deltav / 2\n",
    "m = 12 * 1.66053873E-27 \n",
    "K = m / hbar * v - k_h\n",
    "c_s = 343\n",
    "xi = hbar / (m * c_s)\n",
    "delta_v = delta(xi,c_s,deltav)\n",
    "fig = plt.figure()\n",
    "ax = plt.axes() \n",
    "#plt.plot(k_h, im_omega(delta_v, k_h), label='Im($\\omega$)')\n",
    "plt.plot(k_h, im_omega_kh(delta_v, deltav,k_h)), linewidth = 1.5,  c = 'olive')\n",
    "plt.xlabel('$k_H$')\n",
    "plt.ylabel('Im($\\omega_{KH}$)')\n",
    "plt.xlim(0,50)\n",
    "plt.show()\n"
   ]
  }
 ],
 "metadata": {
  "kernelspec": {
   "display_name": "base",
   "language": "python",
   "name": "python3"
  },
  "language_info": {
   "codemirror_mode": {
    "name": "ipython",
    "version": 3
   },
   "file_extension": ".py",
   "mimetype": "text/x-python",
   "name": "python",
   "nbconvert_exporter": "python",
   "pygments_lexer": "ipython3",
   "version": "3.10.9"
  }
 },
 "nbformat": 4,
 "nbformat_minor": 2
}
